{
 "cells": [
  {
   "cell_type": "code",
   "execution_count": null,
   "metadata": {},
   "outputs": [
    {
     "name": "stdout",
     "output_type": "stream",
     "text": [
      "[[27.23880543 23.83014303 14.3944554  ... 49.9020515  50.19250575\n",
      "  49.98679394]]\n"
     ]
    }
   ],
   "source": []
  },
  {
   "cell_type": "code",
   "execution_count": null,
   "metadata": {},
   "outputs": [],
   "source": []
  },
  {
   "cell_type": "markdown",
   "metadata": {},
   "source": [
    "Ce qui diffère en premier lieu entre une guitare et un Ukulele est la taille de l'instrument, et sa forme.\n",
    "On peut décomposer la guitare et le Ukulele dans les mêmes décompositions élémentaires. \n",
    "Elles sont composées en 4 parties :\n",
    "- La corde (non étudié ici)\n",
    "- Le résonateur : qui comprend la cavité et le volume d'air\n",
    "- La face avant du résonateur\n",
    "- La face arrière du résonateur\n",
    "Ce sont les éléments qui rentre en mouvement lors de l'excitation d'une corde.\n",
    "On considère que la face arrière n'a qu'une influence minime puisque lorsque l'utilisateur joue de son Ukulele, il pose la face arrière sur son buste ce qui amortie les vibrations. Le luthier souhaite donc qu'il y aille le moins d'énergie transmise possible à l'arrière de l'instrument. On ne va pas l'étudier aujourd'hui.\n",
    "\n",
    "La guitare utilisée ici est une guitare Yamaha C40 classique. Elle n'a pas de barrages lattice, c'est une guitare très répandue dans l'industrie de diapason 650mm. \n",
    "Le Ukulele est un Ukulele Tanglewood Soprano tiare, de diapason 345mm"
   ]
  },
  {
   "cell_type": "markdown",
   "metadata": {},
   "source": [
    "Modèle bases fréquence\n",
    "\n",
    "<img src=\"./strings.png\">\n",
    "\n",
    "Pour faire ce modèle, on ne va concidèrer qu'une partie de la décomposition élémentaire. Choses à mettre en lumière : pourquoi pas empècher la résonnance à l'arrière de l'instrument en fixant l'arrière de l'instrument une couverture.\n",
    "\n",
    "\n",
    "Comme on mesure l'impédance juste à côté du point de jeu, cela permet de ne pas trop être embêté par les fréquences des modes de la partie arrière de l'instrument.\n",
    "Le changement de volume est due au déplacement de la colonne d'air du résonnateur et du piston \n",
    "$$\\Delta V = Ax_p + Bx_a$$ \n",
    "\n",
    "On applique un principe fondamental de la dynamique sur sur le piston puis sur le résonnateur.\n",
    "\n",
    "$m_p \\ddot{x_p} + k_p x_p + R_p \\dot{x_p} - A \\Delta P = F$\n",
    "\n",
    "$m_a \\ddot{x_a} + R_a \\dot{x_a} - S \\Delta P = 0$\n",
    "\n",
    "delta p peut être exprimé en fonction de xa et xp\n",
    "Ce sont donc deux équations couplées qui sont analytiquement résolvable.\n"
   ]
  },
  {
   "cell_type": "markdown",
   "metadata": {},
   "source": [
    "Le modèle possède donc deux oscilateurs. Qui sont caractéristiques de la hauteur de la note obtenue, mais absolument pas du timbre.\n",
    "F = pS. C'est la différence des forces de pression entre les deux plaques qui permet de déterminer.\n",
    "On prend aussi en compte les forces résistives de l'air. Il s'agit de l'énergie dissipée par frottement visqueux. Ces frottements permettent de déterminer le temps de la note et sont des pertes par rayonnement de l'onde sonore. F = dpS.\n",
    "\n",
    "On concidère qu'il n'y a pas de transfert de température, d'où delta p = - mu deltaV.\n",
    "\n",
    "\n"
   ]
  },
  {
   "cell_type": "markdown",
   "metadata": {},
   "source": [
    "On trouve finalement le système d'équation :\n",
    "\n",
    "$m_p \\ddot{x_p} + (k_p + \\mu A^2 ) x_p + R_p \\dot{x_p} = F$\n",
    "\n",
    "$m_a \\ddot{x_a} - R_a \\dot{x_a} - S \\Delta P = 0$\n",
    "\n",
    "En forme matricielle :\n",
    "\n",
    "$$M \\ddot{X} + R \\dot{X} + K X = F$$\n",
    "\n",
    "\n",
    "\n",
    "$ M = \\begin{bmatrix} m_p & 0 \\\\ 0 & m_a \\end{bmatrix}  $\n",
    "$ R = \\begin{bmatrix} R_p & 0 \\\\ 0 & R_a \\end{bmatrix}  $\n",
    "$ C = \\begin{bmatrix} k_p + \\mu A^2 & \\mu S A \\\\ \\mu S A & \\mu S^2  \\end{bmatrix}  $\n",
    "\n",
    "On applique une transformée de Fourier\n",
    "$$(-\\omega^2 M  + j \\omega R + K ) X = F$$\n",
    "On appelle $ \\mathbb{G} =  -\\omega^2 M  + j \\omega R + K $\n",
    "d'où $$ \\mathbb{G} X = F $$\n",
    "\n",
    "On peut avant noter deux pulsations remarcables : $\\omega_p = \\left[\\frac{k_p + \\mu A^2}{m_p}\\right]^{1/2}$ et $\\omega_h = \\left[\\frac{\\mu S^2}{m_a}\\right]^{1/2}$ et le facteur de couplage $\\alpha = \\mu S A$.\n",
    "\n",
    "Si $ det(\\Omega) = 0 $, alors, on peut déterminer les fréquences de coupures. d'où en négligeant les frottements :\n",
    "$$(\\omega^2 -\\omega_p^2)(\\omega^2 -\\omega_a^2) - \\frac{\\alpha^2}{m_p m_a} = 0$$\n",
    "D'où avec le changement de variable $\\Omega =\\omega^2$, on obtient une equation de degré 2 dont les racines sont :\n",
    "$$\\omega_\\pm ^ 2 = 1/2(\\omega_p^2 + \\omega_h^2) \\pm 1/2 \\left[ (\\omega_p^2 - \\omega_h^2)^2 +4 \\frac{\\alpha}{(m_p m_a)^{1/2}} \\right]^{1/2}$$\n",
    "\n",
    "We now have everything we need to apply this model to guitar and to ukulele"
   ]
  },
  {
   "cell_type": "code",
   "execution_count": 147,
   "metadata": {},
   "outputs": [
    {
     "name": "stdout",
     "output_type": "stream",
     "text": [
      "guitar first frequencies :  212.7154643220687  and  416.4817809277114\n",
      "ukulele first frequencies :  568.5030945963558  and  635.5601468338263\n"
     ]
    }
   ],
   "source": [
    "import numpy as np\n",
    "\n",
    "c = 343.3 #m/s\n",
    "rho = 1.205 #kg/m3\n",
    "Poisson_coef = 0.2 # pour du bois\n",
    "\n",
    "# valeurs pour un ukulele\n",
    "\n",
    "#V_u = (0.345*520/752.2)*(0.345*330/752.2)*(0.345*90/752.2)\n",
    "#S_u = np.pi*(0.345*104/(2*752.2))**2\n",
    "#A_u = np.pi*(0.345*287/(752.2*2))**2\n",
    "V_u = 0.238*0.151*0.041\n",
    "S_u = np.pi*(0.024)**2\n",
    "rho_tilleul = 417 #kg/m3\n",
    "A_u = np.pi*0.066**2\n",
    "mu_u = c**2*rho/V_u\n",
    "e_u = 1.5E-3\n",
    "m_p_u = S_u*e_u*rho_tilleul\n",
    "m_a_u = A_u*e_u*rho\n",
    "E_tilleul = 7000\n",
    "\n",
    "\n",
    "\n",
    "\n",
    "# valeurs pour une guitare\n",
    "#V_g = (0.650*2780/3732)*(0.650*1900/3732)*(0.650*432/3732)*4\n",
    "#S_g = np.pi*(0.650*501/3838/2)**2\n",
    "#A_g = np.pi* (0.650*1675/3838/2)**2\n",
    "V_g = 0.484*0.331*0.075\n",
    "S_g = np.pi*0.042**2\n",
    "rho_epicea = 450 #kg/m3\n",
    "# on prend pour la surface vibrante de la guitare un cercle de diametre environ égale à la partie inférieure de l'instrument\n",
    "A_g = np.pi* 0.141**2\n",
    "mu_g = c**2*rho/V_g\n",
    "e_g = 2.7E-3\n",
    "m_p_g = S_g*e_g*rho_epicea\n",
    "m_a_g = A_g*e_g*rho\n",
    "# stiffness of wood and young module https://amesweb.info/Materials/Youngs-Modulus-of-Wood.aspx https://en.wikipedia.org/wiki/Vibration_of_plates\n",
    "E_epicea = 9000\n",
    "\n",
    "# On regroupe pour éviter de se perdre avec les indices, l'indice 0 est la guitare, l'indice 1 est le ukulele \n",
    "A = np.array([A_g, A_u])\n",
    "rho_bois = np.array([rho_epicea, rho_tilleul])\n",
    "V = np.array([V_g, V_u])\n",
    "S = np.array([S_g, S_u])\n",
    "e = np.array([e_g, e_u])\n",
    "m_p = np.array([m_p_g, m_p_u])\n",
    "m_a = np.array([m_a_g, m_a_u])\n",
    "mu = np.array([mu_g, mu_u])\n",
    "E = np.array([E_epicea, E_tilleul])\n",
    "\n",
    "\n",
    "def model_guitar(e,mu,A,S,m_a,m_p,E,Poisson_coef):\n",
    "    k_p = 2*E*e**3/(3*(1-Poisson_coef**2))/S\n",
    "\n",
    "    omega_p = ((k_p + mu*A**2)/m_p)**0.5\n",
    "    omega_h = ((mu*S**2)/m_a)**0.5\n",
    "    alpha = S*A*mu\n",
    "\n",
    "    omega1 = (0.5*(omega_p**2+omega_h**2)-0.5*((omega_p**2-omega_h**2)**2+4*alpha/(m_p*m_a)**0.5)**0.5)**0.5\n",
    "\n",
    "    omega2 = (0.5*(omega_p**2+omega_h**2)+0.5*((omega_p**2-omega_h**2)**2+4*alpha/(m_p*m_a)**0.5)**0.5)**0.5\n",
    "\n",
    "    return omega1, omega2\n",
    "\n",
    "omega1,omega2 = model_guitar(e,mu,A,S,m_a,m_p,E,Poisson_coef)\n",
    "print(\"guitar first frequencies : \", omega1[0]/(2*np.pi), ' and ', omega2[0]/(2*np.pi))\n",
    "print(\"ukulele first frequencies : \", omega1[1]/(2*np.pi), ' and ', omega2[1]/(2*np.pi))"
   ]
  },
  {
   "cell_type": "code",
   "execution_count": null,
   "metadata": {},
   "outputs": [],
   "source": [
    "import scipy.io\n",
    "import matplotlib.pyplot as plt\n",
    "mat = scipy.io.loadmat('./guitar/A vide 3.fig.mat')\n",
    "frequencies = mat[\"frequency\"][0][0:3300]\n",
    "accelerance = mat[\"accelerance\"][0][0:3300]\n",
    "\n",
    "plt.plot(frequencies,accelerance)"
   ]
  },
  {
   "cell_type": "markdown",
   "metadata": {},
   "source": [
    "On obtient des fréquences qui ne sont pas concordante avec la réalité. Cela peut être du à la mesure approximative des mesures de l'instrument, au modèle trop simpliste, la géométrie de la guitare.\n",
    "Dans la suite, on prendra des valeurs de volume et de surface qui permettent d'obtenir des fréquences qui correspondent à celles trouvées expérimentalement.\n",
    "L'objectif maintenant est de suivre le comportement des fréquences et voir si le même comportement est vu pour les cordes ou les percussions."
   ]
  },
  {
   "cell_type": "code",
   "execution_count": 144,
   "metadata": {},
   "outputs": [
    {
     "name": "stdout",
     "output_type": "stream",
     "text": [
      "guitar first frequencies :  102.58044036047811  and  200.8455424054778\n",
      "ukulele first frequencies :  568.5030945963558  and  635.5601468338263\n"
     ]
    }
   ],
   "source": [
    "\n",
    "c = 343.3 #m/s\n",
    "rho = 1.205 #kg/m3\n",
    "Poisson_coef = 0.2 # pour du bois\n",
    "\n",
    "# valeurs pour un ukulele\n",
    "\n",
    "#V_u = (0.345*520/752.2)*(0.345*330/752.2)*(0.345*90/752.2)\n",
    "#S_u = np.pi*(0.345*104/(2*752.2))**2\n",
    "#A_u = np.pi*(0.345*287/(752.2*2))**2\n",
    "V_u = 0.238*0.151*0.041\n",
    "S_u = np.pi*(0.024)**2\n",
    "rho_tilleul = 417 #kg/m3\n",
    "A_u = np.pi*0.066**2\n",
    "mu_u = c**2*rho/V_u\n",
    "e_u = 1.5E-3\n",
    "m_p_u = S_u*e_u*rho_tilleul\n",
    "m_a_u = A_u*e_u*rho\n",
    "E_tilleul = 7000\n",
    "\n",
    "\n",
    "\n",
    "\n",
    "# valeurs pour une guitare\n",
    "#V_g = (0.650*2780/3732)*(0.650*1900/3732)*(0.650*432/3732)*4\n",
    "#S_g = np.pi*(0.650*501/3838/2)**2\n",
    "#A_g = np.pi* (0.650*1675/3838/2)**2\n",
    "V_g = 0.484*0.331*0.075*4.3\n",
    "S_g = np.pi*0.042**2\n",
    "rho_epicea = 450 #kg/m3\n",
    "# on prend pour la surface vibrante de la guitare un cercle de diametre environ égale à la partie inférieure de l'instrument\n",
    "A_g = np.pi* 0.141**2\n",
    "mu_g = c**2*rho/V_g\n",
    "e_g = 2.7E-3\n",
    "m_p_g = S_g*e_g*rho_epicea\n",
    "m_a_g = A_g*e_g*rho\n",
    "# stiffness of wood and young module https://amesweb.info/Materials/Youngs-Modulus-of-Wood.aspx https://en.wikipedia.org/wiki/Vibration_of_plates\n",
    "E_epicea = 9000\n",
    "\n",
    "# On regroupe pour éviter de se perdre avec les indices, l'indice 0 est la guitare, l'indice 1 est le ukulele \n",
    "A = np.array([A_g, A_u])\n",
    "rho_bois = np.array([rho_epicea, rho_tilleul])\n",
    "V = np.array([V_g, V_u])\n",
    "S = np.array([S_g, S_u])\n",
    "e = np.array([e_g, e_u])\n",
    "m_p = np.array([m_p_g, m_p_u])\n",
    "m_a = np.array([m_a_g, m_a_u])\n",
    "mu = np.array([mu_g, mu_u])\n",
    "E = np.array([E_epicea, E_tilleul])\n",
    "\n",
    "\n",
    "# On regroupe pour éviter de se perdre avec les indices, l'indice 0 est la guitare, l'indice 1 est le ukulele \n",
    "A = np.array([A_g, A_u])\n",
    "rho_bois = np.array([rho_epicea, rho_tilleul])\n",
    "V = np.array([V_g, V_u])\n",
    "S = np.array([S_g, S_u])\n",
    "e = np.array([e_g, e_u])\n",
    "m_p = np.array([m_p_g, m_p_u])\n",
    "m_a = np.array([m_a_g, m_a_u])\n",
    "mu = np.array([mu_g, mu_u])\n",
    "E = np.array([E_epicea, E_tilleul])\n",
    "\n",
    "omega1,omega2 = model_guitar(e,mu,A,S,m_a,m_p,E,Poisson_coef)\n",
    "print(\"guitar first frequencies : \", omega1[0]/(2*np.pi), ' and ', omega2[0]/(2*np.pi))\n",
    "print(\"ukulele first frequencies : \", omega1[1]/(2*np.pi), ' and ', omega2[1]/(2*np.pi))"
   ]
  },
  {
   "cell_type": "markdown",
   "metadata": {},
   "source": [
    "Le modèle est trop simpliste et ne permet malheuresement pas d'obtenir des valeurs réelles.\n",
    "C'est pour cela que dans le papier, les valeurs f1, f2 sont définies comme connues avant l'expérience, et les valeurs des pulsations omega_p et omega_h sont déterminées à partir de ces fréquences et non de la géométrie de la guitare."
   ]
  },
  {
   "cell_type": "markdown",
   "metadata": {},
   "source": [
    "Pour obtenir des valeurs cohérentes, on ajuste les termes de la guitare"
   ]
  },
  {
   "cell_type": "code",
   "execution_count": null,
   "metadata": {},
   "outputs": [],
   "source": []
  },
  {
   "cell_type": "code",
   "execution_count": null,
   "metadata": {},
   "outputs": [
    {
     "name": "stdout",
     "output_type": "stream",
     "text": [
      "0.0038345814000000002\n",
      "0.012015300000000001\n"
     ]
    }
   ],
   "source": []
  },
  {
   "cell_type": "markdown",
   "metadata": {},
   "source": [
    "Qu'obtient-on expérimentalement ?\n",
    "\n",
    "à vide"
   ]
  },
  {
   "cell_type": "code",
   "execution_count": 127,
   "metadata": {},
   "outputs": [
    {
     "data": {
      "text/plain": [
       "[<matplotlib.lines.Line2D at 0x3427bdd60>]"
      ]
     },
     "execution_count": 127,
     "metadata": {},
     "output_type": "execute_result"
    },
    {
     "data": {
      "image/png": "[encoded data removed]",
      "text/plain": [
       "<Figure size 640x480 with 1 Axes>"
      ]
     },
     "metadata": {},
     "output_type": "display_data"
    }
   ],
   "source": [
    "import scipy.io\n",
    "import matplotlib.pyplot as plt\n",
    "mat = scipy.io.loadmat('./guitar/A vide 3.fig.mat')\n",
    "frequencies = mat[\"frequency\"][0][0:3300]\n",
    "accelerance = mat[\"accelerance\"][0][0:3300]\n",
    "\n",
    "plt.plot(frequencies,accelerance)"
   ]
  },
  {
   "cell_type": "markdown",
   "metadata": {},
   "source": [
    "  après recherche des racines du polynome $ det(\\Omega - \\lambda I_2) $ pour déterminer les pulsations de coupures et on obtient une équation de degré deux en \\lambda, dont les racines sont trop complexe à déterminer analitiquement : \n"
   ]
  },
  {
   "cell_type": "code",
   "execution_count": 1,
   "metadata": {},
   "outputs": [
    {
     "data": {
      "text/plain": [
       "0.08725884244372992"
      ]
     },
     "execution_count": 1,
     "metadata": {},
     "output_type": "execute_result"
    }
   ],
   "source": [
    "0.650*501/3732"
   ]
  }
 ],
 "metadata": {
  "kernelspec": {
   "display_name": ".venv",
   "language": "python",
   "name": "python3"
  },
  "language_info": {
   "codemirror_mode": {
    "name": "ipython",
    "version": 3
   },
   "file_extension": ".py",
   "mimetype": "text/x-python",
   "name": "python",
   "nbconvert_exporter": "python",
   "pygments_lexer": "ipython3",
   "version": "3.12.2"
  }
 },
 "nbformat": 4,
 "nbformat_minor": 2
}
